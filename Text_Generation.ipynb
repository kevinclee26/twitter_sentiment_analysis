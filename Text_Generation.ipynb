{
 "cells": [
  {
   "cell_type": "markdown",
   "metadata": {},
   "source": [
    "### Using Markov Chains\n",
    "* Markov Chains are a way of representing how systems change over time\n",
    "* The main concept behind Markov Chains are that they are memoryless, meaning that the next state of a process only depends on the previous state"
   ]
  },
  {
   "cell_type": "markdown",
   "metadata": {},
   "source": [
    "Idea: \n",
    "* Looks at each word and decides how likely each successive word would occur\n",
    "Step: \n",
    "1. Create a dictionary for a corpus where the keys are the current state and the values are the options for the next state. Write a function to randomly generate next terms. \n",
    "2. This is a oversimplified way of generating text. A much more complex technique would be to use deep learning and **Long Short-Term Memory (LSTM)**. This not only takes into account the previous word, but things like the words before the previous word, what words have already been generated, etc. "
   ]
  }
 ],
 "metadata": {
  "kernelspec": {
   "display_name": "Python 3",
   "language": "python",
   "name": "python3"
  },
  "language_info": {
   "codemirror_mode": {
    "name": "ipython",
    "version": 3
   },
   "file_extension": ".py",
   "mimetype": "text/x-python",
   "name": "python",
   "nbconvert_exporter": "python",
   "pygments_lexer": "ipython3",
   "version": "3.7.4"
  }
 },
 "nbformat": 4,
 "nbformat_minor": 2
}
